{
 "cells": [
  {
   "cell_type": "code",
   "execution_count": 12,
   "metadata": {
    "collapsed": true,
    "deletable": true,
    "editable": true
   },
   "outputs": [],
   "source": [
    "# gensim modules\n",
    "from gensim import utils\n",
    "from gensim.models.doc2vec import LabeledSentence\n",
    "from gensim.models import Doc2Vec\n",
    "import sys\n",
    "import logging\n",
    "\n",
    "# numpy\n",
    "import numpy\n",
    "\n",
    "# random\n",
    "from random import shuffle\n",
    "\n",
    "# classifier\n",
    "from sklearn.linear_model import LogisticRegression\n",
    "from sklearn.metrics import classification_report, f1_score\n",
    "import itertools\n",
    "import matplotlib.pyplot as plt\n",
    "from sklearn.metrics import confusion_matrix\n",
    "\n",
    "from nltk.corpus import stopwords\n",
    "import os\n",
    "import pymorphy2\n",
    "\n",
    "logging.basicConfig(format='%(asctime)s : %(levelname)s : %(message)s', level=logging.INFO)"
   ]
  },
  {
   "cell_type": "markdown",
   "metadata": {
    "deletable": true,
    "editable": true
   },
   "source": [
    "Я руководствовалась в работе вот этим постом: http://linanqiu.github.io/2015/10/07/word2vec-sentiment/"
   ]
  },
  {
   "cell_type": "markdown",
   "metadata": {
    "deletable": true,
    "editable": true
   },
   "source": [
    "## Начнем с предобработки. В итоге я должна получить 6 текстовых файлов:\n",
    "- test_anec.txt\n",
    "- test_izvest.txt\n",
    "- test_tech.txt\n",
    "- train_anec.txt\n",
    "- train_izvest.txt\n",
    "- train_tech.txt\n",
    "\n",
    "Так как датасет сбалансирован по классам, ничего обрезать мне не пришлось. В каждом тренировочном файле по 98 документов коллекции соответствующего жанра,\n",
    "в каждом тестовом - по 27. В файле каждый документ должен располагаться на отдельной строке, в строке - список лемм через пробел\n",
    "с удаленными стоп-словами и знаками препинания. Сейчас мы этим как раз займемся."
   ]
  },
  {
   "cell_type": "code",
   "execution_count": 3,
   "metadata": {
    "collapsed": false,
    "deletable": true,
    "editable": true
   },
   "outputs": [],
   "source": [
    "cachedStopWords = stopwords.words(\"russian\")\n",
    "morph = pymorphy2.MorphAnalyzer()"
   ]
  },
  {
   "cell_type": "code",
   "execution_count": 5,
   "metadata": {
    "collapsed": true,
    "deletable": true,
    "editable": true
   },
   "outputs": [],
   "source": [
    "punct = '”“\".,«»\\\\/*!:;—()\\'-%`.?―[]*-'"
   ]
  },
  {
   "cell_type": "code",
   "execution_count": 6,
   "metadata": {
    "collapsed": true,
    "deletable": true,
    "editable": true
   },
   "outputs": [],
   "source": [
    "def preprocess(dir_name, result_f):\n",
    "    files = os.listdir('./' + dir_name)\n",
    "    result = ''\n",
    "    for i in range(len(files)):\n",
    "        file = files[i]\n",
    "        if file.endswith('.txt'):\n",
    "            result += string(os.path.join('./' + dir_name, file)) + '\\n'\n",
    "            if i == 99:\n",
    "                train = result\n",
    "                result = ''\n",
    "    with open('test_' + result_f, 'w', encoding='utf-8') as j:\n",
    "        j.write(result)\n",
    "    with open('train_' + result_f, 'w', encoding='utf-8') as f:\n",
    "        f.write(train)"
   ]
  },
  {
   "cell_type": "code",
   "execution_count": 7,
   "metadata": {
    "collapsed": true,
    "deletable": true,
    "editable": true
   },
   "outputs": [],
   "source": [
    "def string(text):\n",
    "    g = open(text, 'r')\n",
    "    arr = []\n",
    "    for line in g:\n",
    "        line = line.strip().lower().split()\n",
    "        for word in line:\n",
    "            word = word.strip(punct).lstrip(punct)\n",
    "            word = word.strip(punct)\n",
    "            word = word.strip(punct)\n",
    "            lemma = morph.parse(word)[0].normal_form\n",
    "            if len(lemma) > 0:\n",
    "                if lemma not in cachedStopWords and lemma[0] not in punct:\n",
    "                    arr.append(lemma)\n",
    "    g.close()\n",
    "    return ' '.join(arr)                                 "
   ]
  },
  {
   "cell_type": "code",
   "execution_count": 8,
   "metadata": {
    "collapsed": false,
    "deletable": true,
    "editable": true
   },
   "outputs": [],
   "source": [
    "lets_see = preprocess('anekdots', 'anec.txt')"
   ]
  },
  {
   "cell_type": "code",
   "execution_count": 9,
   "metadata": {
    "collapsed": true,
    "deletable": true,
    "editable": true
   },
   "outputs": [],
   "source": [
    "second = preprocess('izvest', 'izvest.txt')"
   ]
  },
  {
   "cell_type": "code",
   "execution_count": 10,
   "metadata": {
    "collapsed": true,
    "deletable": true,
    "editable": true
   },
   "outputs": [],
   "source": [
    "third = preprocess('teh_mol', 'tech.txt')"
   ]
  },
  {
   "cell_type": "markdown",
   "metadata": {
    "deletable": true,
    "editable": true
   },
   "source": [
    "## Теперь скармливаем данные doc2vec"
   ]
  },
  {
   "cell_type": "code",
   "execution_count": 26,
   "metadata": {
    "collapsed": true,
    "deletable": true,
    "editable": true
   },
   "outputs": [],
   "source": [
    "class LabeledLineSentence(object):\n",
    "    def __init__(self, sources):\n",
    "        self.sources = sources\n",
    "        \n",
    "        flipped = {}\n",
    "        \n",
    "        # make sure that keys are unique\n",
    "        for key, value in sources.items():\n",
    "            if value not in flipped:\n",
    "                flipped[value] = [key]\n",
    "            else:\n",
    "                raise Exception('Non-unique prefix encountered')\n",
    "    \n",
    "    def __iter__(self):\n",
    "        for source, prefix in self.sources.items():\n",
    "            with utils.smart_open(source) as fin:\n",
    "                for item_no, line in enumerate(fin):\n",
    "                    yield LabeledSentence(utils.to_unicode(line).split(), [prefix + '_%s' % item_no])\n",
    "    \n",
    "    def to_array(self):\n",
    "        self.sentences = []\n",
    "        for source, prefix in self.sources.items():\n",
    "            with utils.smart_open(source) as fin:\n",
    "                for item_no, line in enumerate(fin):\n",
    "                    self.sentences.append(LabeledSentence(utils.to_unicode(line).split(), [prefix + '_%s' % item_no]))\n",
    "        return self.sentences\n",
    "    \n",
    "    def sentences_perm(self):\n",
    "        shuffle(self.sentences)\n",
    "        return self.sentences"
   ]
  },
  {
   "cell_type": "code",
   "execution_count": 27,
   "metadata": {
    "collapsed": true,
    "deletable": true,
    "editable": true
   },
   "outputs": [],
   "source": [
    "sources = {'test_anec.txt':'TEST_ANEC',\n",
    "           'test_izvest.txt':'TEST_IZVEST',\n",
    "           'test_tech.txt':'TEST_TECH',\n",
    "           'train_anec.txt':'TRAIN_ANEC',\n",
    "           'train_izvest.txt':'TRAIN_IZVEST',\n",
    "           'train_tech.txt':'TRAIN_TECH'}\n",
    "\n",
    "sentences = LabeledLineSentence(sources)"
   ]
  },
  {
   "cell_type": "code",
   "execution_count": 28,
   "metadata": {
    "collapsed": true,
    "deletable": true,
    "editable": true
   },
   "outputs": [],
   "source": [
    "model = Doc2Vec(min_count=1, window=10, size=100, sample=1e-4, negative=5, workers=8)\n",
    "model.build_vocab(sentences.to_array())"
   ]
  },
  {
   "cell_type": "markdown",
   "metadata": {
    "deletable": true,
    "editable": true
   },
   "source": [
    "# Теперь натренируем модель и сохраним её"
   ]
  },
  {
   "cell_type": "code",
   "execution_count": 29,
   "metadata": {
    "collapsed": true,
    "deletable": true,
    "editable": true
   },
   "outputs": [],
   "source": [
    "for epoch in range(10):\n",
    "    model.train(sentences.sentences_perm())\n",
    "model.save('./russian_texts.d2v')"
   ]
  },
  {
   "cell_type": "code",
   "execution_count": 2,
   "metadata": {
    "collapsed": false,
    "deletable": true,
    "editable": true
   },
   "outputs": [
    {
     "name": "stderr",
     "output_type": "stream",
     "text": [
      "2017-03-29 20:00:28,333 : INFO : loading Doc2Vec object from ./russian_texts.d2v\n",
      "2017-03-29 20:00:28,769 : INFO : loading docvecs recursively from ./russian_texts.d2v.docvecs.* with mmap=None\n",
      "2017-03-29 20:00:28,770 : INFO : loading wv recursively from ./russian_texts.d2v.wv.* with mmap=None\n",
      "2017-03-29 20:00:28,771 : INFO : setting ignored attribute syn0norm to None\n",
      "2017-03-29 20:00:28,773 : INFO : setting ignored attribute cum_table to None\n",
      "2017-03-29 20:00:28,774 : INFO : loaded ./russian_texts.d2v\n"
     ]
    }
   ],
   "source": [
    "model = Doc2Vec.load('./russian_texts.d2v')"
   ]
  },
  {
   "cell_type": "code",
   "execution_count": 33,
   "metadata": {
    "collapsed": false,
    "deletable": true,
    "editable": true
   },
   "outputs": [
    {
     "data": {
      "text/plain": [
       "{'TEST_ANEC_0': Doctag(offset=223, word_count=3038, doc_count=1),\n",
       " 'TEST_ANEC_1': Doctag(offset=224, word_count=892, doc_count=1),\n",
       " 'TEST_ANEC_10': Doctag(offset=233, word_count=1401, doc_count=1),\n",
       " 'TEST_ANEC_11': Doctag(offset=234, word_count=1595, doc_count=1),\n",
       " 'TEST_ANEC_12': Doctag(offset=235, word_count=1599, doc_count=1),\n",
       " 'TEST_ANEC_13': Doctag(offset=236, word_count=451, doc_count=1),\n",
       " 'TEST_ANEC_14': Doctag(offset=237, word_count=833, doc_count=1),\n",
       " 'TEST_ANEC_15': Doctag(offset=238, word_count=251, doc_count=1),\n",
       " 'TEST_ANEC_16': Doctag(offset=239, word_count=426, doc_count=1),\n",
       " 'TEST_ANEC_17': Doctag(offset=240, word_count=2032, doc_count=1),\n",
       " 'TEST_ANEC_18': Doctag(offset=241, word_count=4643, doc_count=1),\n",
       " 'TEST_ANEC_19': Doctag(offset=242, word_count=5922, doc_count=1),\n",
       " 'TEST_ANEC_2': Doctag(offset=225, word_count=1498, doc_count=1),\n",
       " 'TEST_ANEC_20': Doctag(offset=243, word_count=2845, doc_count=1),\n",
       " 'TEST_ANEC_21': Doctag(offset=244, word_count=2047, doc_count=1),\n",
       " 'TEST_ANEC_22': Doctag(offset=245, word_count=740, doc_count=1),\n",
       " 'TEST_ANEC_23': Doctag(offset=246, word_count=1805, doc_count=1),\n",
       " 'TEST_ANEC_24': Doctag(offset=247, word_count=312, doc_count=1),\n",
       " 'TEST_ANEC_25': Doctag(offset=248, word_count=439, doc_count=1),\n",
       " 'TEST_ANEC_26': Doctag(offset=249, word_count=3391, doc_count=1),\n",
       " 'TEST_ANEC_3': Doctag(offset=226, word_count=1251, doc_count=1),\n",
       " 'TEST_ANEC_4': Doctag(offset=227, word_count=3045, doc_count=1),\n",
       " 'TEST_ANEC_5': Doctag(offset=228, word_count=580, doc_count=1),\n",
       " 'TEST_ANEC_6': Doctag(offset=229, word_count=2342, doc_count=1),\n",
       " 'TEST_ANEC_7': Doctag(offset=230, word_count=172, doc_count=1),\n",
       " 'TEST_ANEC_8': Doctag(offset=231, word_count=1301, doc_count=1),\n",
       " 'TEST_ANEC_9': Doctag(offset=232, word_count=408, doc_count=1),\n",
       " 'TEST_IZVEST_0': Doctag(offset=0, word_count=296, doc_count=1),\n",
       " 'TEST_IZVEST_1': Doctag(offset=1, word_count=256, doc_count=1),\n",
       " 'TEST_IZVEST_10': Doctag(offset=10, word_count=329, doc_count=1),\n",
       " 'TEST_IZVEST_11': Doctag(offset=11, word_count=414, doc_count=1),\n",
       " 'TEST_IZVEST_12': Doctag(offset=12, word_count=460, doc_count=1),\n",
       " 'TEST_IZVEST_13': Doctag(offset=13, word_count=230, doc_count=1),\n",
       " 'TEST_IZVEST_14': Doctag(offset=14, word_count=290, doc_count=1),\n",
       " 'TEST_IZVEST_15': Doctag(offset=15, word_count=529, doc_count=1),\n",
       " 'TEST_IZVEST_16': Doctag(offset=16, word_count=274, doc_count=1),\n",
       " 'TEST_IZVEST_17': Doctag(offset=17, word_count=384, doc_count=1),\n",
       " 'TEST_IZVEST_18': Doctag(offset=18, word_count=416, doc_count=1),\n",
       " 'TEST_IZVEST_19': Doctag(offset=19, word_count=517, doc_count=1),\n",
       " 'TEST_IZVEST_2': Doctag(offset=2, word_count=291, doc_count=1),\n",
       " 'TEST_IZVEST_20': Doctag(offset=20, word_count=483, doc_count=1),\n",
       " 'TEST_IZVEST_21': Doctag(offset=21, word_count=428, doc_count=1),\n",
       " 'TEST_IZVEST_22': Doctag(offset=22, word_count=743, doc_count=1),\n",
       " 'TEST_IZVEST_23': Doctag(offset=23, word_count=222, doc_count=1),\n",
       " 'TEST_IZVEST_24': Doctag(offset=24, word_count=342, doc_count=1),\n",
       " 'TEST_IZVEST_25': Doctag(offset=25, word_count=172, doc_count=1),\n",
       " 'TEST_IZVEST_26': Doctag(offset=26, word_count=259, doc_count=1),\n",
       " 'TEST_IZVEST_3': Doctag(offset=3, word_count=335, doc_count=1),\n",
       " 'TEST_IZVEST_4': Doctag(offset=4, word_count=511, doc_count=1),\n",
       " 'TEST_IZVEST_5': Doctag(offset=5, word_count=312, doc_count=1),\n",
       " 'TEST_IZVEST_6': Doctag(offset=6, word_count=306, doc_count=1),\n",
       " 'TEST_IZVEST_7': Doctag(offset=7, word_count=426, doc_count=1),\n",
       " 'TEST_IZVEST_8': Doctag(offset=8, word_count=715, doc_count=1),\n",
       " 'TEST_IZVEST_9': Doctag(offset=9, word_count=250, doc_count=1),\n",
       " 'TEST_TECH_0': Doctag(offset=348, word_count=1406, doc_count=1),\n",
       " 'TEST_TECH_1': Doctag(offset=349, word_count=1088, doc_count=1),\n",
       " 'TEST_TECH_10': Doctag(offset=358, word_count=583, doc_count=1),\n",
       " 'TEST_TECH_11': Doctag(offset=359, word_count=1075, doc_count=1),\n",
       " 'TEST_TECH_12': Doctag(offset=360, word_count=1004, doc_count=1),\n",
       " 'TEST_TECH_13': Doctag(offset=361, word_count=1720, doc_count=1),\n",
       " 'TEST_TECH_14': Doctag(offset=362, word_count=658, doc_count=1),\n",
       " 'TEST_TECH_15': Doctag(offset=363, word_count=1306, doc_count=1),\n",
       " 'TEST_TECH_16': Doctag(offset=364, word_count=347, doc_count=1),\n",
       " 'TEST_TECH_17': Doctag(offset=365, word_count=330, doc_count=1),\n",
       " 'TEST_TECH_18': Doctag(offset=366, word_count=201, doc_count=1),\n",
       " 'TEST_TECH_19': Doctag(offset=367, word_count=122, doc_count=1),\n",
       " 'TEST_TECH_2': Doctag(offset=350, word_count=646, doc_count=1),\n",
       " 'TEST_TECH_20': Doctag(offset=368, word_count=200, doc_count=1),\n",
       " 'TEST_TECH_21': Doctag(offset=369, word_count=239, doc_count=1),\n",
       " 'TEST_TECH_22': Doctag(offset=370, word_count=244, doc_count=1),\n",
       " 'TEST_TECH_23': Doctag(offset=371, word_count=81, doc_count=1),\n",
       " 'TEST_TECH_24': Doctag(offset=372, word_count=1997, doc_count=1),\n",
       " 'TEST_TECH_25': Doctag(offset=373, word_count=1427, doc_count=1),\n",
       " 'TEST_TECH_26': Doctag(offset=374, word_count=824, doc_count=1),\n",
       " 'TEST_TECH_3': Doctag(offset=351, word_count=361, doc_count=1),\n",
       " 'TEST_TECH_4': Doctag(offset=352, word_count=311, doc_count=1),\n",
       " 'TEST_TECH_5': Doctag(offset=353, word_count=1809, doc_count=1),\n",
       " 'TEST_TECH_6': Doctag(offset=354, word_count=639, doc_count=1),\n",
       " 'TEST_TECH_7': Doctag(offset=355, word_count=755, doc_count=1),\n",
       " 'TEST_TECH_8': Doctag(offset=356, word_count=601, doc_count=1),\n",
       " 'TEST_TECH_9': Doctag(offset=357, word_count=182, doc_count=1),\n",
       " 'TRAIN_ANEC_0': Doctag(offset=250, word_count=13399, doc_count=1),\n",
       " 'TRAIN_ANEC_1': Doctag(offset=251, word_count=149, doc_count=1),\n",
       " 'TRAIN_ANEC_10': Doctag(offset=260, word_count=1295, doc_count=1),\n",
       " 'TRAIN_ANEC_11': Doctag(offset=261, word_count=3004, doc_count=1),\n",
       " 'TRAIN_ANEC_12': Doctag(offset=262, word_count=105, doc_count=1),\n",
       " 'TRAIN_ANEC_13': Doctag(offset=263, word_count=3006, doc_count=1),\n",
       " 'TRAIN_ANEC_14': Doctag(offset=264, word_count=1056, doc_count=1),\n",
       " 'TRAIN_ANEC_15': Doctag(offset=265, word_count=4207, doc_count=1),\n",
       " 'TRAIN_ANEC_16': Doctag(offset=266, word_count=462, doc_count=1),\n",
       " 'TRAIN_ANEC_17': Doctag(offset=267, word_count=748, doc_count=1),\n",
       " 'TRAIN_ANEC_18': Doctag(offset=268, word_count=6477, doc_count=1),\n",
       " 'TRAIN_ANEC_19': Doctag(offset=269, word_count=212, doc_count=1),\n",
       " 'TRAIN_ANEC_2': Doctag(offset=252, word_count=2735, doc_count=1),\n",
       " 'TRAIN_ANEC_20': Doctag(offset=270, word_count=1071, doc_count=1),\n",
       " 'TRAIN_ANEC_21': Doctag(offset=271, word_count=310, doc_count=1),\n",
       " 'TRAIN_ANEC_22': Doctag(offset=272, word_count=341, doc_count=1),\n",
       " 'TRAIN_ANEC_23': Doctag(offset=273, word_count=7245, doc_count=1),\n",
       " 'TRAIN_ANEC_24': Doctag(offset=274, word_count=291, doc_count=1),\n",
       " 'TRAIN_ANEC_25': Doctag(offset=275, word_count=819, doc_count=1),\n",
       " 'TRAIN_ANEC_26': Doctag(offset=276, word_count=523, doc_count=1),\n",
       " 'TRAIN_ANEC_27': Doctag(offset=277, word_count=771, doc_count=1),\n",
       " 'TRAIN_ANEC_28': Doctag(offset=278, word_count=38, doc_count=1),\n",
       " 'TRAIN_ANEC_29': Doctag(offset=279, word_count=622, doc_count=1),\n",
       " 'TRAIN_ANEC_3': Doctag(offset=253, word_count=585, doc_count=1),\n",
       " 'TRAIN_ANEC_30': Doctag(offset=280, word_count=441, doc_count=1),\n",
       " 'TRAIN_ANEC_31': Doctag(offset=281, word_count=3497, doc_count=1),\n",
       " 'TRAIN_ANEC_32': Doctag(offset=282, word_count=795, doc_count=1),\n",
       " 'TRAIN_ANEC_33': Doctag(offset=283, word_count=6452, doc_count=1),\n",
       " 'TRAIN_ANEC_34': Doctag(offset=284, word_count=1956, doc_count=1),\n",
       " 'TRAIN_ANEC_35': Doctag(offset=285, word_count=4236, doc_count=1),\n",
       " 'TRAIN_ANEC_36': Doctag(offset=286, word_count=822, doc_count=1),\n",
       " 'TRAIN_ANEC_37': Doctag(offset=287, word_count=3018, doc_count=1),\n",
       " 'TRAIN_ANEC_38': Doctag(offset=288, word_count=564, doc_count=1),\n",
       " 'TRAIN_ANEC_39': Doctag(offset=289, word_count=271, doc_count=1),\n",
       " 'TRAIN_ANEC_4': Doctag(offset=254, word_count=6155, doc_count=1),\n",
       " 'TRAIN_ANEC_40': Doctag(offset=290, word_count=1997, doc_count=1),\n",
       " 'TRAIN_ANEC_41': Doctag(offset=291, word_count=600, doc_count=1),\n",
       " 'TRAIN_ANEC_42': Doctag(offset=292, word_count=712, doc_count=1),\n",
       " 'TRAIN_ANEC_43': Doctag(offset=293, word_count=210, doc_count=1),\n",
       " 'TRAIN_ANEC_44': Doctag(offset=294, word_count=202, doc_count=1),\n",
       " 'TRAIN_ANEC_45': Doctag(offset=295, word_count=1773, doc_count=1),\n",
       " 'TRAIN_ANEC_46': Doctag(offset=296, word_count=1489, doc_count=1),\n",
       " 'TRAIN_ANEC_47': Doctag(offset=297, word_count=1164, doc_count=1),\n",
       " 'TRAIN_ANEC_48': Doctag(offset=298, word_count=638, doc_count=1),\n",
       " 'TRAIN_ANEC_49': Doctag(offset=299, word_count=161, doc_count=1),\n",
       " 'TRAIN_ANEC_5': Doctag(offset=255, word_count=2775, doc_count=1),\n",
       " 'TRAIN_ANEC_50': Doctag(offset=300, word_count=362, doc_count=1),\n",
       " 'TRAIN_ANEC_51': Doctag(offset=301, word_count=1253, doc_count=1),\n",
       " 'TRAIN_ANEC_52': Doctag(offset=302, word_count=3913, doc_count=1),\n",
       " 'TRAIN_ANEC_53': Doctag(offset=303, word_count=546, doc_count=1),\n",
       " 'TRAIN_ANEC_54': Doctag(offset=304, word_count=897, doc_count=1),\n",
       " 'TRAIN_ANEC_55': Doctag(offset=305, word_count=1515, doc_count=1),\n",
       " 'TRAIN_ANEC_56': Doctag(offset=306, word_count=1419, doc_count=1),\n",
       " 'TRAIN_ANEC_57': Doctag(offset=307, word_count=953, doc_count=1),\n",
       " 'TRAIN_ANEC_58': Doctag(offset=308, word_count=537, doc_count=1),\n",
       " 'TRAIN_ANEC_59': Doctag(offset=309, word_count=3624, doc_count=1),\n",
       " 'TRAIN_ANEC_6': Doctag(offset=256, word_count=2319, doc_count=1),\n",
       " 'TRAIN_ANEC_60': Doctag(offset=310, word_count=553, doc_count=1),\n",
       " 'TRAIN_ANEC_61': Doctag(offset=311, word_count=3821, doc_count=1),\n",
       " 'TRAIN_ANEC_62': Doctag(offset=312, word_count=900, doc_count=1),\n",
       " 'TRAIN_ANEC_63': Doctag(offset=313, word_count=1332, doc_count=1),\n",
       " 'TRAIN_ANEC_64': Doctag(offset=314, word_count=3026, doc_count=1),\n",
       " 'TRAIN_ANEC_65': Doctag(offset=315, word_count=1673, doc_count=1),\n",
       " 'TRAIN_ANEC_66': Doctag(offset=316, word_count=291, doc_count=1),\n",
       " 'TRAIN_ANEC_67': Doctag(offset=317, word_count=577, doc_count=1),\n",
       " 'TRAIN_ANEC_68': Doctag(offset=318, word_count=975, doc_count=1),\n",
       " 'TRAIN_ANEC_69': Doctag(offset=319, word_count=5592, doc_count=1),\n",
       " 'TRAIN_ANEC_7': Doctag(offset=257, word_count=325, doc_count=1),\n",
       " 'TRAIN_ANEC_70': Doctag(offset=320, word_count=625, doc_count=1),\n",
       " 'TRAIN_ANEC_71': Doctag(offset=321, word_count=262, doc_count=1),\n",
       " 'TRAIN_ANEC_72': Doctag(offset=322, word_count=524, doc_count=1),\n",
       " 'TRAIN_ANEC_73': Doctag(offset=323, word_count=1183, doc_count=1),\n",
       " 'TRAIN_ANEC_74': Doctag(offset=324, word_count=389, doc_count=1),\n",
       " 'TRAIN_ANEC_75': Doctag(offset=325, word_count=794, doc_count=1),\n",
       " 'TRAIN_ANEC_76': Doctag(offset=326, word_count=1446, doc_count=1),\n",
       " 'TRAIN_ANEC_77': Doctag(offset=327, word_count=746, doc_count=1),\n",
       " 'TRAIN_ANEC_78': Doctag(offset=328, word_count=2618, doc_count=1),\n",
       " 'TRAIN_ANEC_79': Doctag(offset=329, word_count=914, doc_count=1),\n",
       " 'TRAIN_ANEC_8': Doctag(offset=258, word_count=804, doc_count=1),\n",
       " 'TRAIN_ANEC_80': Doctag(offset=330, word_count=2173, doc_count=1),\n",
       " 'TRAIN_ANEC_81': Doctag(offset=331, word_count=1042, doc_count=1),\n",
       " 'TRAIN_ANEC_82': Doctag(offset=332, word_count=1080, doc_count=1),\n",
       " 'TRAIN_ANEC_83': Doctag(offset=333, word_count=546, doc_count=1),\n",
       " 'TRAIN_ANEC_84': Doctag(offset=334, word_count=354, doc_count=1),\n",
       " 'TRAIN_ANEC_85': Doctag(offset=335, word_count=398, doc_count=1),\n",
       " 'TRAIN_ANEC_86': Doctag(offset=336, word_count=764, doc_count=1),\n",
       " 'TRAIN_ANEC_87': Doctag(offset=337, word_count=3527, doc_count=1),\n",
       " 'TRAIN_ANEC_88': Doctag(offset=338, word_count=1055, doc_count=1),\n",
       " 'TRAIN_ANEC_89': Doctag(offset=339, word_count=1142, doc_count=1),\n",
       " 'TRAIN_ANEC_9': Doctag(offset=259, word_count=2970, doc_count=1),\n",
       " 'TRAIN_ANEC_90': Doctag(offset=340, word_count=8040, doc_count=1),\n",
       " 'TRAIN_ANEC_91': Doctag(offset=341, word_count=7661, doc_count=1),\n",
       " 'TRAIN_ANEC_92': Doctag(offset=342, word_count=352, doc_count=1),\n",
       " 'TRAIN_ANEC_93': Doctag(offset=343, word_count=525, doc_count=1),\n",
       " 'TRAIN_ANEC_94': Doctag(offset=344, word_count=2645, doc_count=1),\n",
       " 'TRAIN_ANEC_95': Doctag(offset=345, word_count=990, doc_count=1),\n",
       " 'TRAIN_ANEC_96': Doctag(offset=346, word_count=3477, doc_count=1),\n",
       " 'TRAIN_ANEC_97': Doctag(offset=347, word_count=958, doc_count=1),\n",
       " 'TRAIN_IZVEST_0': Doctag(offset=125, word_count=167, doc_count=1),\n",
       " 'TRAIN_IZVEST_1': Doctag(offset=126, word_count=350, doc_count=1),\n",
       " 'TRAIN_IZVEST_10': Doctag(offset=135, word_count=255, doc_count=1),\n",
       " 'TRAIN_IZVEST_11': Doctag(offset=136, word_count=816, doc_count=1),\n",
       " 'TRAIN_IZVEST_12': Doctag(offset=137, word_count=340, doc_count=1),\n",
       " 'TRAIN_IZVEST_13': Doctag(offset=138, word_count=184, doc_count=1),\n",
       " 'TRAIN_IZVEST_14': Doctag(offset=139, word_count=315, doc_count=1),\n",
       " 'TRAIN_IZVEST_15': Doctag(offset=140, word_count=586, doc_count=1),\n",
       " 'TRAIN_IZVEST_16': Doctag(offset=141, word_count=344, doc_count=1),\n",
       " 'TRAIN_IZVEST_17': Doctag(offset=142, word_count=257, doc_count=1),\n",
       " 'TRAIN_IZVEST_18': Doctag(offset=143, word_count=216, doc_count=1),\n",
       " 'TRAIN_IZVEST_19': Doctag(offset=144, word_count=622, doc_count=1),\n",
       " 'TRAIN_IZVEST_2': Doctag(offset=127, word_count=185, doc_count=1),\n",
       " 'TRAIN_IZVEST_20': Doctag(offset=145, word_count=579, doc_count=1),\n",
       " 'TRAIN_IZVEST_21': Doctag(offset=146, word_count=341, doc_count=1),\n",
       " 'TRAIN_IZVEST_22': Doctag(offset=147, word_count=838, doc_count=1),\n",
       " 'TRAIN_IZVEST_23': Doctag(offset=148, word_count=265, doc_count=1),\n",
       " 'TRAIN_IZVEST_24': Doctag(offset=149, word_count=229, doc_count=1),\n",
       " 'TRAIN_IZVEST_25': Doctag(offset=150, word_count=319, doc_count=1),\n",
       " 'TRAIN_IZVEST_26': Doctag(offset=151, word_count=254, doc_count=1),\n",
       " 'TRAIN_IZVEST_27': Doctag(offset=152, word_count=432, doc_count=1),\n",
       " 'TRAIN_IZVEST_28': Doctag(offset=153, word_count=413, doc_count=1),\n",
       " 'TRAIN_IZVEST_29': Doctag(offset=154, word_count=314, doc_count=1),\n",
       " 'TRAIN_IZVEST_3': Doctag(offset=128, word_count=285, doc_count=1),\n",
       " 'TRAIN_IZVEST_30': Doctag(offset=155, word_count=199, doc_count=1),\n",
       " 'TRAIN_IZVEST_31': Doctag(offset=156, word_count=402, doc_count=1),\n",
       " 'TRAIN_IZVEST_32': Doctag(offset=157, word_count=487, doc_count=1),\n",
       " 'TRAIN_IZVEST_33': Doctag(offset=158, word_count=333, doc_count=1),\n",
       " 'TRAIN_IZVEST_34': Doctag(offset=159, word_count=245, doc_count=1),\n",
       " 'TRAIN_IZVEST_35': Doctag(offset=160, word_count=636, doc_count=1),\n",
       " 'TRAIN_IZVEST_36': Doctag(offset=161, word_count=278, doc_count=1),\n",
       " 'TRAIN_IZVEST_37': Doctag(offset=162, word_count=215, doc_count=1),\n",
       " 'TRAIN_IZVEST_38': Doctag(offset=163, word_count=382, doc_count=1),\n",
       " 'TRAIN_IZVEST_39': Doctag(offset=164, word_count=282, doc_count=1),\n",
       " 'TRAIN_IZVEST_4': Doctag(offset=129, word_count=197, doc_count=1),\n",
       " 'TRAIN_IZVEST_40': Doctag(offset=165, word_count=471, doc_count=1),\n",
       " 'TRAIN_IZVEST_41': Doctag(offset=166, word_count=153, doc_count=1),\n",
       " 'TRAIN_IZVEST_42': Doctag(offset=167, word_count=474, doc_count=1),\n",
       " 'TRAIN_IZVEST_43': Doctag(offset=168, word_count=468, doc_count=1),\n",
       " 'TRAIN_IZVEST_44': Doctag(offset=169, word_count=251, doc_count=1),\n",
       " 'TRAIN_IZVEST_45': Doctag(offset=170, word_count=508, doc_count=1),\n",
       " 'TRAIN_IZVEST_46': Doctag(offset=171, word_count=238, doc_count=1),\n",
       " 'TRAIN_IZVEST_47': Doctag(offset=172, word_count=268, doc_count=1),\n",
       " 'TRAIN_IZVEST_48': Doctag(offset=173, word_count=326, doc_count=1),\n",
       " 'TRAIN_IZVEST_49': Doctag(offset=174, word_count=379, doc_count=1),\n",
       " 'TRAIN_IZVEST_5': Doctag(offset=130, word_count=843, doc_count=1),\n",
       " 'TRAIN_IZVEST_50': Doctag(offset=175, word_count=293, doc_count=1),\n",
       " 'TRAIN_IZVEST_51': Doctag(offset=176, word_count=332, doc_count=1),\n",
       " 'TRAIN_IZVEST_52': Doctag(offset=177, word_count=225, doc_count=1),\n",
       " 'TRAIN_IZVEST_53': Doctag(offset=178, word_count=278, doc_count=1),\n",
       " 'TRAIN_IZVEST_54': Doctag(offset=179, word_count=153, doc_count=1),\n",
       " 'TRAIN_IZVEST_55': Doctag(offset=180, word_count=440, doc_count=1),\n",
       " 'TRAIN_IZVEST_56': Doctag(offset=181, word_count=385, doc_count=1),\n",
       " 'TRAIN_IZVEST_57': Doctag(offset=182, word_count=317, doc_count=1),\n",
       " 'TRAIN_IZVEST_58': Doctag(offset=183, word_count=349, doc_count=1),\n",
       " 'TRAIN_IZVEST_59': Doctag(offset=184, word_count=364, doc_count=1),\n",
       " 'TRAIN_IZVEST_6': Doctag(offset=131, word_count=578, doc_count=1),\n",
       " 'TRAIN_IZVEST_60': Doctag(offset=185, word_count=392, doc_count=1),\n",
       " 'TRAIN_IZVEST_61': Doctag(offset=186, word_count=459, doc_count=1),\n",
       " 'TRAIN_IZVEST_62': Doctag(offset=187, word_count=335, doc_count=1),\n",
       " 'TRAIN_IZVEST_63': Doctag(offset=188, word_count=255, doc_count=1),\n",
       " 'TRAIN_IZVEST_64': Doctag(offset=189, word_count=515, doc_count=1),\n",
       " 'TRAIN_IZVEST_65': Doctag(offset=190, word_count=337, doc_count=1),\n",
       " 'TRAIN_IZVEST_66': Doctag(offset=191, word_count=269, doc_count=1),\n",
       " 'TRAIN_IZVEST_67': Doctag(offset=192, word_count=458, doc_count=1),\n",
       " 'TRAIN_IZVEST_68': Doctag(offset=193, word_count=382, doc_count=1),\n",
       " 'TRAIN_IZVEST_69': Doctag(offset=194, word_count=335, doc_count=1),\n",
       " 'TRAIN_IZVEST_7': Doctag(offset=132, word_count=272, doc_count=1),\n",
       " 'TRAIN_IZVEST_70': Doctag(offset=195, word_count=389, doc_count=1),\n",
       " 'TRAIN_IZVEST_71': Doctag(offset=196, word_count=475, doc_count=1),\n",
       " 'TRAIN_IZVEST_72': Doctag(offset=197, word_count=364, doc_count=1),\n",
       " 'TRAIN_IZVEST_73': Doctag(offset=198, word_count=369, doc_count=1),\n",
       " 'TRAIN_IZVEST_74': Doctag(offset=199, word_count=305, doc_count=1),\n",
       " 'TRAIN_IZVEST_75': Doctag(offset=200, word_count=214, doc_count=1),\n",
       " 'TRAIN_IZVEST_76': Doctag(offset=201, word_count=299, doc_count=1),\n",
       " 'TRAIN_IZVEST_77': Doctag(offset=202, word_count=333, doc_count=1),\n",
       " 'TRAIN_IZVEST_78': Doctag(offset=203, word_count=506, doc_count=1),\n",
       " 'TRAIN_IZVEST_79': Doctag(offset=204, word_count=131, doc_count=1),\n",
       " 'TRAIN_IZVEST_8': Doctag(offset=133, word_count=311, doc_count=1),\n",
       " 'TRAIN_IZVEST_80': Doctag(offset=205, word_count=371, doc_count=1),\n",
       " 'TRAIN_IZVEST_81': Doctag(offset=206, word_count=419, doc_count=1),\n",
       " 'TRAIN_IZVEST_82': Doctag(offset=207, word_count=352, doc_count=1),\n",
       " 'TRAIN_IZVEST_83': Doctag(offset=208, word_count=346, doc_count=1),\n",
       " 'TRAIN_IZVEST_84': Doctag(offset=209, word_count=389, doc_count=1),\n",
       " 'TRAIN_IZVEST_85': Doctag(offset=210, word_count=388, doc_count=1),\n",
       " 'TRAIN_IZVEST_86': Doctag(offset=211, word_count=419, doc_count=1),\n",
       " 'TRAIN_IZVEST_87': Doctag(offset=212, word_count=415, doc_count=1),\n",
       " 'TRAIN_IZVEST_88': Doctag(offset=213, word_count=286, doc_count=1),\n",
       " 'TRAIN_IZVEST_89': Doctag(offset=214, word_count=226, doc_count=1),\n",
       " 'TRAIN_IZVEST_9': Doctag(offset=134, word_count=399, doc_count=1),\n",
       " 'TRAIN_IZVEST_90': Doctag(offset=215, word_count=265, doc_count=1),\n",
       " 'TRAIN_IZVEST_91': Doctag(offset=216, word_count=328, doc_count=1),\n",
       " 'TRAIN_IZVEST_92': Doctag(offset=217, word_count=538, doc_count=1),\n",
       " 'TRAIN_IZVEST_93': Doctag(offset=218, word_count=579, doc_count=1),\n",
       " 'TRAIN_IZVEST_94': Doctag(offset=219, word_count=690, doc_count=1),\n",
       " 'TRAIN_IZVEST_95': Doctag(offset=220, word_count=394, doc_count=1),\n",
       " 'TRAIN_IZVEST_96': Doctag(offset=221, word_count=166, doc_count=1),\n",
       " 'TRAIN_IZVEST_97': Doctag(offset=222, word_count=355, doc_count=1),\n",
       " 'TRAIN_TECH_0': Doctag(offset=27, word_count=226, doc_count=1),\n",
       " 'TRAIN_TECH_1': Doctag(offset=28, word_count=1552, doc_count=1),\n",
       " 'TRAIN_TECH_10': Doctag(offset=37, word_count=587, doc_count=1),\n",
       " 'TRAIN_TECH_11': Doctag(offset=38, word_count=1048, doc_count=1),\n",
       " 'TRAIN_TECH_12': Doctag(offset=39, word_count=747, doc_count=1),\n",
       " 'TRAIN_TECH_13': Doctag(offset=40, word_count=635, doc_count=1),\n",
       " 'TRAIN_TECH_14': Doctag(offset=41, word_count=122, doc_count=1),\n",
       " 'TRAIN_TECH_15': Doctag(offset=42, word_count=451, doc_count=1),\n",
       " 'TRAIN_TECH_16': Doctag(offset=43, word_count=639, doc_count=1),\n",
       " 'TRAIN_TECH_17': Doctag(offset=44, word_count=611, doc_count=1),\n",
       " 'TRAIN_TECH_18': Doctag(offset=45, word_count=1212, doc_count=1),\n",
       " 'TRAIN_TECH_19': Doctag(offset=46, word_count=797, doc_count=1),\n",
       " 'TRAIN_TECH_2': Doctag(offset=29, word_count=539, doc_count=1),\n",
       " 'TRAIN_TECH_20': Doctag(offset=47, word_count=1699, doc_count=1),\n",
       " 'TRAIN_TECH_21': Doctag(offset=48, word_count=788, doc_count=1),\n",
       " 'TRAIN_TECH_22': Doctag(offset=49, word_count=641, doc_count=1),\n",
       " 'TRAIN_TECH_23': Doctag(offset=50, word_count=1007, doc_count=1),\n",
       " 'TRAIN_TECH_24': Doctag(offset=51, word_count=1225, doc_count=1),\n",
       " 'TRAIN_TECH_25': Doctag(offset=52, word_count=683, doc_count=1),\n",
       " 'TRAIN_TECH_26': Doctag(offset=53, word_count=153, doc_count=1),\n",
       " 'TRAIN_TECH_27': Doctag(offset=54, word_count=389, doc_count=1),\n",
       " 'TRAIN_TECH_28': Doctag(offset=55, word_count=454, doc_count=1),\n",
       " 'TRAIN_TECH_29': Doctag(offset=56, word_count=225, doc_count=1),\n",
       " 'TRAIN_TECH_3': Doctag(offset=30, word_count=605, doc_count=1),\n",
       " 'TRAIN_TECH_30': Doctag(offset=57, word_count=61, doc_count=1),\n",
       " 'TRAIN_TECH_31': Doctag(offset=58, word_count=235, doc_count=1),\n",
       " 'TRAIN_TECH_32': Doctag(offset=59, word_count=219, doc_count=1),\n",
       " 'TRAIN_TECH_33': Doctag(offset=60, word_count=1305, doc_count=1),\n",
       " 'TRAIN_TECH_34': Doctag(offset=61, word_count=763, doc_count=1),\n",
       " 'TRAIN_TECH_35': Doctag(offset=62, word_count=1414, doc_count=1),\n",
       " 'TRAIN_TECH_36': Doctag(offset=63, word_count=193, doc_count=1),\n",
       " 'TRAIN_TECH_37': Doctag(offset=64, word_count=1390, doc_count=1),\n",
       " 'TRAIN_TECH_38': Doctag(offset=65, word_count=376, doc_count=1),\n",
       " 'TRAIN_TECH_39': Doctag(offset=66, word_count=930, doc_count=1),\n",
       " 'TRAIN_TECH_4': Doctag(offset=31, word_count=803, doc_count=1),\n",
       " 'TRAIN_TECH_40': Doctag(offset=67, word_count=1179, doc_count=1),\n",
       " 'TRAIN_TECH_41': Doctag(offset=68, word_count=390, doc_count=1),\n",
       " 'TRAIN_TECH_42': Doctag(offset=69, word_count=428, doc_count=1),\n",
       " 'TRAIN_TECH_43': Doctag(offset=70, word_count=1800, doc_count=1),\n",
       " 'TRAIN_TECH_44': Doctag(offset=71, word_count=1673, doc_count=1),\n",
       " 'TRAIN_TECH_45': Doctag(offset=72, word_count=949, doc_count=1),\n",
       " 'TRAIN_TECH_46': Doctag(offset=73, word_count=954, doc_count=1),\n",
       " 'TRAIN_TECH_47': Doctag(offset=74, word_count=569, doc_count=1),\n",
       " 'TRAIN_TECH_48': Doctag(offset=75, word_count=763, doc_count=1),\n",
       " 'TRAIN_TECH_49': Doctag(offset=76, word_count=856, doc_count=1),\n",
       " 'TRAIN_TECH_5': Doctag(offset=32, word_count=1291, doc_count=1),\n",
       " 'TRAIN_TECH_50': Doctag(offset=77, word_count=716, doc_count=1),\n",
       " 'TRAIN_TECH_51': Doctag(offset=78, word_count=942, doc_count=1),\n",
       " 'TRAIN_TECH_52': Doctag(offset=79, word_count=616, doc_count=1),\n",
       " 'TRAIN_TECH_53': Doctag(offset=80, word_count=526, doc_count=1),\n",
       " 'TRAIN_TECH_54': Doctag(offset=81, word_count=1665, doc_count=1),\n",
       " 'TRAIN_TECH_55': Doctag(offset=82, word_count=157, doc_count=1),\n",
       " 'TRAIN_TECH_56': Doctag(offset=83, word_count=247, doc_count=1),\n",
       " 'TRAIN_TECH_57': Doctag(offset=84, word_count=151, doc_count=1),\n",
       " 'TRAIN_TECH_58': Doctag(offset=85, word_count=198, doc_count=1),\n",
       " 'TRAIN_TECH_59': Doctag(offset=86, word_count=181, doc_count=1),\n",
       " 'TRAIN_TECH_6': Doctag(offset=33, word_count=505, doc_count=1),\n",
       " 'TRAIN_TECH_60': Doctag(offset=87, word_count=222, doc_count=1),\n",
       " 'TRAIN_TECH_61': Doctag(offset=88, word_count=1094, doc_count=1),\n",
       " 'TRAIN_TECH_62': Doctag(offset=89, word_count=755, doc_count=1),\n",
       " 'TRAIN_TECH_63': Doctag(offset=90, word_count=502, doc_count=1),\n",
       " 'TRAIN_TECH_64': Doctag(offset=91, word_count=243, doc_count=1),\n",
       " 'TRAIN_TECH_65': Doctag(offset=92, word_count=646, doc_count=1),\n",
       " 'TRAIN_TECH_66': Doctag(offset=93, word_count=1385, doc_count=1),\n",
       " 'TRAIN_TECH_67': Doctag(offset=94, word_count=2205, doc_count=1),\n",
       " 'TRAIN_TECH_68': Doctag(offset=95, word_count=850, doc_count=1),\n",
       " 'TRAIN_TECH_69': Doctag(offset=96, word_count=648, doc_count=1),\n",
       " 'TRAIN_TECH_7': Doctag(offset=34, word_count=782, doc_count=1),\n",
       " 'TRAIN_TECH_70': Doctag(offset=97, word_count=2028, doc_count=1),\n",
       " 'TRAIN_TECH_71': Doctag(offset=98, word_count=284, doc_count=1),\n",
       " 'TRAIN_TECH_72': Doctag(offset=99, word_count=703, doc_count=1),\n",
       " 'TRAIN_TECH_73': Doctag(offset=100, word_count=923, doc_count=1),\n",
       " 'TRAIN_TECH_74': Doctag(offset=101, word_count=1013, doc_count=1),\n",
       " 'TRAIN_TECH_75': Doctag(offset=102, word_count=320, doc_count=1),\n",
       " 'TRAIN_TECH_76': Doctag(offset=103, word_count=1209, doc_count=1),\n",
       " 'TRAIN_TECH_77': Doctag(offset=104, word_count=249, doc_count=1),\n",
       " 'TRAIN_TECH_78': Doctag(offset=105, word_count=272, doc_count=1),\n",
       " 'TRAIN_TECH_79': Doctag(offset=106, word_count=830, doc_count=1),\n",
       " 'TRAIN_TECH_8': Doctag(offset=35, word_count=1946, doc_count=1),\n",
       " 'TRAIN_TECH_80': Doctag(offset=107, word_count=245, doc_count=1),\n",
       " 'TRAIN_TECH_81': Doctag(offset=108, word_count=795, doc_count=1),\n",
       " 'TRAIN_TECH_82': Doctag(offset=109, word_count=1008, doc_count=1),\n",
       " 'TRAIN_TECH_83': Doctag(offset=110, word_count=2327, doc_count=1),\n",
       " 'TRAIN_TECH_84': Doctag(offset=111, word_count=285, doc_count=1),\n",
       " 'TRAIN_TECH_85': Doctag(offset=112, word_count=216, doc_count=1),\n",
       " 'TRAIN_TECH_86': Doctag(offset=113, word_count=225, doc_count=1),\n",
       " 'TRAIN_TECH_87': Doctag(offset=114, word_count=103, doc_count=1),\n",
       " 'TRAIN_TECH_88': Doctag(offset=115, word_count=301, doc_count=1),\n",
       " 'TRAIN_TECH_89': Doctag(offset=116, word_count=89, doc_count=1),\n",
       " 'TRAIN_TECH_9': Doctag(offset=36, word_count=1156, doc_count=1),\n",
       " 'TRAIN_TECH_90': Doctag(offset=117, word_count=76, doc_count=1),\n",
       " 'TRAIN_TECH_91': Doctag(offset=118, word_count=249, doc_count=1),\n",
       " 'TRAIN_TECH_92': Doctag(offset=119, word_count=516, doc_count=1),\n",
       " 'TRAIN_TECH_93': Doctag(offset=120, word_count=175, doc_count=1),\n",
       " 'TRAIN_TECH_94': Doctag(offset=121, word_count=1086, doc_count=1),\n",
       " 'TRAIN_TECH_95': Doctag(offset=122, word_count=209, doc_count=1),\n",
       " 'TRAIN_TECH_96': Doctag(offset=123, word_count=453, doc_count=1),\n",
       " 'TRAIN_TECH_97': Doctag(offset=124, word_count=2604, doc_count=1)}"
      ]
     },
     "execution_count": 33,
     "metadata": {},
     "output_type": "execute_result"
    }
   ],
   "source": [
    "model.docvecs.doctags"
   ]
  },
  {
   "cell_type": "code",
   "execution_count": 36,
   "metadata": {
    "collapsed": false,
    "deletable": true,
    "editable": true
   },
   "outputs": [
    {
     "data": {
      "text/plain": [
       "array([ 0.19051854,  0.60918671, -2.38717127,  2.03238726,  7.32066965,\n",
       "        1.86719906,  4.68396187, -6.67090464,  3.68699622,  0.98762316,\n",
       "        1.93070221, -1.0310092 , -1.66179109, -1.3848834 ,  1.11528373,\n",
       "        2.92722678, -1.21440363, -1.19559765,  1.83826792, -0.79649842,\n",
       "       -3.62324762,  1.25002921, -1.513304  ,  3.97247314, -4.25109673,\n",
       "       -1.24689043, -1.68420231, -0.10447729, -5.07565308, -1.83043909,\n",
       "        1.32588243, -1.67528474,  0.8703478 , -0.27897906,  1.45031524,\n",
       "        0.90892577, -3.98192501, -0.08950612,  0.46196195,  2.16972303,\n",
       "       -1.28289986, -1.6826942 , -0.22298405, -2.38571835, -0.77140588,\n",
       "        0.89957792, -5.36177444, -2.1429472 ,  2.42758512, -1.89045608,\n",
       "        0.62412119, -3.92977977, -2.63474154,  2.1310513 ,  0.95864904,\n",
       "        0.18055861,  2.47236037, -0.59053892, -4.24156332,  0.41244784,\n",
       "       -0.15206599,  2.20668697, -1.68862784,  4.29834509,  1.14757884,\n",
       "       -0.10588936,  1.84893858, -4.42485809, -2.99772143,  0.57045811,\n",
       "       -0.10487369,  3.66479635, -0.04954732,  1.25222409, -2.17136383,\n",
       "        0.02367258,  1.45984554, -1.3474263 ,  2.59300709,  0.40455985,\n",
       "       -0.93559593, -4.66120434,  1.36733568, -0.80313498, -2.32421374,\n",
       "        3.4908936 ,  3.86368895,  1.54186726, -4.49888611,  0.08205347,\n",
       "        2.71897411,  0.08749706, -2.18216133,  1.2829572 ,  0.64953214,\n",
       "       -2.53372192,  0.64640951, -1.56300676,  2.49125934,  0.87817639], dtype=float32)"
      ]
     },
     "execution_count": 36,
     "metadata": {},
     "output_type": "execute_result"
    }
   ],
   "source": [
    "model.docvecs['TRAIN_TECH_45']"
   ]
  },
  {
   "cell_type": "markdown",
   "metadata": {
    "deletable": true,
    "editable": true
   },
   "source": [
    "Теперь переходим поближе к машинному обучению. Надо сделать numpy массивы для тренировочной и проверочной выборок."
   ]
  },
  {
   "cell_type": "code",
   "execution_count": 3,
   "metadata": {
    "collapsed": true,
    "deletable": true,
    "editable": true
   },
   "outputs": [],
   "source": [
    "train_arrays = numpy.zeros((294, 100))\n",
    "train_labels = numpy.zeros(294)\n",
    "\n",
    "for i in range(98):\n",
    "    prefix_train_a = 'TRAIN_ANEC_' + str(i)\n",
    "    prefix_train_i = 'TRAIN_IZVEST_' + str(i)\n",
    "    prefix_train_t = 'TRAIN_TECH_' + str(i)\n",
    "    train_arrays[i] = model.docvecs[prefix_train_a]\n",
    "    train_arrays[98 + i] = model.docvecs[prefix_train_i]\n",
    "    train_arrays[98 + 98 + i] = model.docvecs[prefix_train_t]\n",
    "    train_labels[i] = 0 #anekdots\n",
    "    train_labels[98 + i] = 1 #izvest\n",
    "    train_labels[98 + 98 + i] = 2 #teh_mol"
   ]
  },
  {
   "cell_type": "code",
   "execution_count": 4,
   "metadata": {
    "collapsed": false,
    "deletable": true,
    "editable": true
   },
   "outputs": [
    {
     "name": "stdout",
     "output_type": "stream",
     "text": [
      "[ 0.  0.  0.  0.  0.  0.  0.  0.  0.  0.  0.  0.  0.  0.  0.  0.  0.  0.\n",
      "  0.  0.  0.  0.  0.  0.  0.  0.  0.  0.  0.  0.  0.  0.  0.  0.  0.  0.\n",
      "  0.  0.  0.  0.  0.  0.  0.  0.  0.  0.  0.  0.  0.  0.  0.  0.  0.  0.\n",
      "  0.  0.  0.  0.  0.  0.  0.  0.  0.  0.  0.  0.  0.  0.  0.  0.  0.  0.\n",
      "  0.  0.  0.  0.  0.  0.  0.  0.  0.  0.  0.  0.  0.  0.  0.  0.  0.  0.\n",
      "  0.  0.  0.  0.  0.  0.  0.  0.  1.  1.  1.  1.  1.  1.  1.  1.  1.  1.\n",
      "  1.  1.  1.  1.  1.  1.  1.  1.  1.  1.  1.  1.  1.  1.  1.  1.  1.  1.\n",
      "  1.  1.  1.  1.  1.  1.  1.  1.  1.  1.  1.  1.  1.  1.  1.  1.  1.  1.\n",
      "  1.  1.  1.  1.  1.  1.  1.  1.  1.  1.  1.  1.  1.  1.  1.  1.  1.  1.\n",
      "  1.  1.  1.  1.  1.  1.  1.  1.  1.  1.  1.  1.  1.  1.  1.  1.  1.  1.\n",
      "  1.  1.  1.  1.  1.  1.  1.  1.  1.  1.  1.  1.  1.  1.  1.  1.  2.  2.\n",
      "  2.  2.  2.  2.  2.  2.  2.  2.  2.  2.  2.  2.  2.  2.  2.  2.  2.  2.\n",
      "  2.  2.  2.  2.  2.  2.  2.  2.  2.  2.  2.  2.  2.  2.  2.  2.  2.  2.\n",
      "  2.  2.  2.  2.  2.  2.  2.  2.  2.  2.  2.  2.  2.  2.  2.  2.  2.  2.\n",
      "  2.  2.  2.  2.  2.  2.  2.  2.  2.  2.  2.  2.  2.  2.  2.  2.  2.  2.\n",
      "  2.  2.  2.  2.  2.  2.  2.  2.  2.  2.  2.  2.  2.  2.  2.  2.  2.  2.\n",
      "  2.  2.  2.  2.  2.  2.]\n"
     ]
    }
   ],
   "source": [
    "print(train_labels)"
   ]
  },
  {
   "cell_type": "code",
   "execution_count": 5,
   "metadata": {
    "collapsed": true,
    "deletable": true,
    "editable": true
   },
   "outputs": [],
   "source": [
    "test_arrays = numpy.zeros((81, 100))\n",
    "test_labels = numpy.zeros(81)\n",
    "\n",
    "for i in range(27):\n",
    "    prefix_test_a = 'TEST_ANEC_' + str(i)\n",
    "    prefix_test_i = 'TEST_IZVEST_' + str(i)\n",
    "    prefix_test_t = 'TEST_TECH_' + str(i)\n",
    "    test_arrays[i] = model.docvecs[prefix_test_a]\n",
    "    test_arrays[27 + i] = model.docvecs[prefix_test_i]\n",
    "    test_arrays[27 + 27 + i] = model.docvecs[prefix_test_t]\n",
    "    test_labels[i] = 0 #anekdots\n",
    "    test_labels[27 + i] = 1 #izvest\n",
    "    test_labels[27 + 27 + i] = 2 #teh_mol"
   ]
  },
  {
   "cell_type": "code",
   "execution_count": 6,
   "metadata": {
    "collapsed": false,
    "deletable": true,
    "editable": true
   },
   "outputs": [
    {
     "name": "stdout",
     "output_type": "stream",
     "text": [
      "[ 0.  0.  0.  0.  0.  0.  0.  0.  0.  0.  0.  0.  0.  0.  0.  0.  0.  0.\n",
      "  0.  0.  0.  0.  0.  0.  0.  0.  0.  1.  1.  1.  1.  1.  1.  1.  1.  1.\n",
      "  1.  1.  1.  1.  1.  1.  1.  1.  1.  1.  1.  1.  1.  1.  1.  1.  1.  1.\n",
      "  2.  2.  2.  2.  2.  2.  2.  2.  2.  2.  2.  2.  2.  2.  2.  2.  2.  2.\n",
      "  2.  2.  2.  2.  2.  2.  2.  2.  2.]\n"
     ]
    }
   ],
   "source": [
    "print(test_labels)"
   ]
  },
  {
   "cell_type": "markdown",
   "metadata": {
    "deletable": true,
    "editable": true
   },
   "source": [
    "Данные готовы. Давайте обучаться и тестироваться."
   ]
  },
  {
   "cell_type": "code",
   "execution_count": 7,
   "metadata": {
    "collapsed": false,
    "deletable": true,
    "editable": true
   },
   "outputs": [
    {
     "data": {
      "text/plain": [
       "LogisticRegression(C=1.0, class_weight=None, dual=False, fit_intercept=True,\n",
       "          intercept_scaling=1, max_iter=100, multi_class='multinomial',\n",
       "          n_jobs=1, penalty='l2', random_state=None, solver='lbfgs',\n",
       "          tol=0.0001, verbose=0, warm_start=False)"
      ]
     },
     "execution_count": 7,
     "metadata": {},
     "output_type": "execute_result"
    }
   ],
   "source": [
    "clf = LogisticRegression(penalty=\"l2\", solver=\"lbfgs\", multi_class=\"multinomial\", max_iter=100)\n",
    "clf.fit(train_arrays, train_labels)"
   ]
  },
  {
   "cell_type": "code",
   "execution_count": 8,
   "metadata": {
    "collapsed": true,
    "deletable": true,
    "editable": true
   },
   "outputs": [],
   "source": [
    "y_pred = clf.predict(test_arrays)"
   ]
  },
  {
   "cell_type": "code",
   "execution_count": 11,
   "metadata": {
    "collapsed": false
   },
   "outputs": [
    {
     "name": "stdout",
     "output_type": "stream",
     "text": [
      "             precision    recall  f1-score   support\n",
      "\n",
      "        0.0       1.00      1.00      1.00        27\n",
      "        1.0       0.96      0.85      0.90        27\n",
      "        2.0       0.87      0.96      0.91        27\n",
      "\n",
      "avg / total       0.94      0.94      0.94        81\n",
      "\n"
     ]
    }
   ],
   "source": [
    "print(classification_report(test_labels, y_pred))"
   ]
  },
  {
   "cell_type": "code",
   "execution_count": 14,
   "metadata": {
    "collapsed": false
   },
   "outputs": [],
   "source": [
    "def plot_confusion_matrix(cm, classes,\n",
    "                          normalize=False,\n",
    "                          title='Confusion matrix',\n",
    "                          cmap=plt.cm.Blues):\n",
    "    \"\"\"\n",
    "    This function prints and plots the confusion matrix.\n",
    "    Normalization can be applied by setting `normalize=True`.\n",
    "    \"\"\"\n",
    "    plt.imshow(cm, interpolation='nearest', cmap=cmap)\n",
    "    plt.title(title)\n",
    "    plt.colorbar()\n",
    "    tick_marks = numpy.arange(len(classes))\n",
    "    plt.xticks(tick_marks, classes, rotation=45)\n",
    "    plt.yticks(tick_marks, classes)\n",
    "\n",
    "    if normalize:\n",
    "        cm = cm.astype('float') / cm.sum(axis=1)[:, numpy.newaxis]\n",
    "        print(\"Normalized confusion matrix\")\n",
    "    else:\n",
    "        print('Confusion matrix, without normalization')\n",
    "\n",
    "    print(cm)\n",
    "\n",
    "    thresh = cm.max() / 2.\n",
    "    for i, j in itertools.product(range(cm.shape[0]), range(cm.shape[1])):\n",
    "        plt.text(j, i, cm[i, j],\n",
    "                 horizontalalignment=\"center\",\n",
    "                 color=\"white\" if cm[i, j] > thresh else \"black\")\n",
    "\n",
    "    plt.tight_layout()\n",
    "    plt.ylabel('True label')\n",
    "    plt.xlabel('Predicted label')"
   ]
  },
  {
   "cell_type": "code",
   "execution_count": 18,
   "metadata": {
    "collapsed": false
   },
   "outputs": [
    {
     "name": "stdout",
     "output_type": "stream",
     "text": [
      "Confusion matrix, without normalization\n",
      "[[27  0  0]\n",
      " [ 0 23  4]\n",
      " [ 0  1 26]]\n"
     ]
    },
    {
     "data": {
      "image/png": "[encoded data removed]",
      "text/plain": [
       "<matplotlib.figure.Figure at 0x113323a90>"
      ]
     },
     "metadata": {},
     "output_type": "display_data"
    }
   ],
   "source": [
    "# Compute confusion matrix\n",
    "cnf_matrix = confusion_matrix(test_labels, y_pred)\n",
    "numpy.set_printoptions(precision=2)\n",
    "\n",
    "# Plot non-normalized confusion matrix\n",
    "plt.figure()\n",
    "plot_confusion_matrix(cnf_matrix, classes=clf.classes_,\n",
    "                      title='Confusion matrix, without normalization')\n",
    "\n",
    "plt.show()"
   ]
  },
  {
   "cell_type": "markdown",
   "metadata": {},
   "source": [
    "Я сделала дефолтные n_jobs=1 в параметре классификатора, потому что со значением 4 работало несколько часов и не закончило даже. \n",
    "Получился хороший результат: f-мера 0.94. Неправильно размеченных примеров 5 всего лишь."
   ]
  },
  {
   "cell_type": "code",
   "execution_count": null,
   "metadata": {
    "collapsed": true
   },
   "outputs": [],
   "source": []
  }
 ],
 "metadata": {
  "kernelspec": {
   "display_name": "Python 3",
   "language": "python",
   "name": "python3"
  },
  "language_info": {
   "codemirror_mode": {
    "name": "ipython",
    "version": 3
   },
   "file_extension": ".py",
   "mimetype": "text/x-python",
   "name": "python",
   "nbconvert_exporter": "python",
   "pygments_lexer": "ipython3",
   "version": "3.4.4"
  }
 },
 "nbformat": 4,
 "nbformat_minor": 2
}
