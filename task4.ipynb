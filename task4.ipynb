{
 "cells": [
  {
   "cell_type": "code",
   "execution_count": 5,
   "metadata": {
    "collapsed": true,
    "deletable": true,
    "editable": true
   },
   "outputs": [],
   "source": [
    "from nltk.corpus import wordnet"
   ]
  },
  {
   "cell_type": "code",
   "execution_count": 6,
   "metadata": {
    "collapsed": false,
    "deletable": true,
    "editable": true
   },
   "outputs": [],
   "source": [
    "from nltk.wsd import lesk"
   ]
  },
  {
   "cell_type": "code",
   "execution_count": 7,
   "metadata": {
    "collapsed": false,
    "deletable": true,
    "editable": true
   },
   "outputs": [
    {
     "data": {
      "text/plain": [
       "[Synset('plant.n.01'),\n",
       " Synset('plant.n.02'),\n",
       " Synset('plant.n.03'),\n",
       " Synset('plant.n.04'),\n",
       " Synset('plant.v.01'),\n",
       " Synset('implant.v.01'),\n",
       " Synset('establish.v.02'),\n",
       " Synset('plant.v.04'),\n",
       " Synset('plant.v.05'),\n",
       " Synset('plant.v.06')]"
      ]
     },
     "execution_count": 7,
     "metadata": {},
     "output_type": "execute_result"
    }
   ],
   "source": [
    "#task1\n",
    "wordnet.synsets('plant')"
   ]
  },
  {
   "cell_type": "code",
   "execution_count": 8,
   "metadata": {
    "collapsed": false,
    "deletable": true,
    "editable": true
   },
   "outputs": [
    {
     "data": {
      "text/plain": [
       "'buildings for carrying on industrial labor'"
      ]
     },
     "execution_count": 8,
     "metadata": {},
     "output_type": "execute_result"
    }
   ],
   "source": [
    "#task2, завод\n",
    "set1 = wordnet.synset('plant.n.01')\n",
    "set1.definition()"
   ]
  },
  {
   "cell_type": "code",
   "execution_count": 9,
   "metadata": {
    "collapsed": false,
    "deletable": true,
    "editable": true
   },
   "outputs": [
    {
     "data": {
      "text/plain": [
       "'(botany) a living organism lacking the power of locomotion'"
      ]
     },
     "execution_count": 9,
     "metadata": {},
     "output_type": "execute_result"
    }
   ],
   "source": [
    "#task2, растение\n",
    "set2 = wordnet.synset('plant.n.02')\n",
    "set2.definition()"
   ]
  },
  {
   "cell_type": "code",
   "execution_count": 12,
   "metadata": {
    "collapsed": true,
    "deletable": true,
    "editable": true
   },
   "outputs": [],
   "source": [
    "sentence1 = 'the electric power plant lacks workers'.split(' ')\n",
    "sentence2 = 'i gave my friend a green plant in a pot'.split(' ')"
   ]
  },
  {
   "cell_type": "code",
   "execution_count": 13,
   "metadata": {
    "collapsed": false,
    "deletable": true,
    "editable": true
   },
   "outputs": [
    {
     "data": {
      "text/plain": [
       "'(botany) a living organism lacking the power of locomotion'"
      ]
     },
     "execution_count": 13,
     "metadata": {},
     "output_type": "execute_result"
    }
   ],
   "source": [
    "#task3\n",
    "lesk(sentence1, 'plant', 'n').definition()"
   ]
  },
  {
   "cell_type": "code",
   "execution_count": 14,
   "metadata": {
    "collapsed": false,
    "deletable": true,
    "editable": true
   },
   "outputs": [
    {
     "data": {
      "text/plain": [
       "'an actor situated in the audience whose acting is rehearsed but seems spontaneous to the audience'"
      ]
     },
     "execution_count": 14,
     "metadata": {},
     "output_type": "execute_result"
    }
   ],
   "source": [
    "#task3\n",
    "lesk(sentence2, 'plant', 'n').definition()"
   ]
  },
  {
   "cell_type": "code",
   "execution_count": 22,
   "metadata": {
    "collapsed": false,
    "deletable": true,
    "editable": true
   },
   "outputs": [
    {
     "data": {
      "text/plain": [
       "[Synset('building_complex.n.01')]"
      ]
     },
     "execution_count": 22,
     "metadata": {},
     "output_type": "execute_result"
    }
   ],
   "source": [
    "#task4, завод\n",
    "wordnet.synset('plant.n.01').hypernyms()"
   ]
  },
  {
   "cell_type": "code",
   "execution_count": 23,
   "metadata": {
    "collapsed": false,
    "deletable": true,
    "editable": true
   },
   "outputs": [
    {
     "data": {
      "text/plain": [
       "[Synset('organism.n.01')]"
      ]
     },
     "execution_count": 23,
     "metadata": {},
     "output_type": "execute_result"
    }
   ],
   "source": [
    "#task4, растение\n",
    "wordnet.synset('plant.n.02').hypernyms()"
   ]
  },
  {
   "cell_type": "code",
   "execution_count": 100,
   "metadata": {
    "collapsed": false,
    "deletable": true,
    "editable": true
   },
   "outputs": [],
   "source": [
    "building = wordnet.synset('plant.n.01')\n",
    "green_thing = wordnet.synset('plant.n.02') "
   ]
  },
  {
   "cell_type": "code",
   "execution_count": 43,
   "metadata": {
    "collapsed": false,
    "deletable": true,
    "editable": true
   },
   "outputs": [
    {
     "name": "stdout",
     "output_type": "stream",
     "text": [
      "0.07142857142857142\n"
     ]
    }
   ],
   "source": [
    "min_building = max([building.path_similarity(ss) for ss in wordnet.synsets('industry')])\n",
    "print(min_building)"
   ]
  },
  {
   "cell_type": "code",
   "execution_count": 44,
   "metadata": {
    "collapsed": false,
    "deletable": true,
    "editable": true
   },
   "outputs": [
    {
     "name": "stdout",
     "output_type": "stream",
     "text": [
      "0.07692307692307693\n"
     ]
    }
   ],
   "source": [
    "min_green_thing = max([green_thing.path_similarity(ss) for ss in wordnet.synsets('industry')])\n",
    "print(min_green_thing)"
   ]
  },
  {
   "cell_type": "code",
   "execution_count": 59,
   "metadata": {
    "collapsed": false,
    "deletable": true,
    "editable": true
   },
   "outputs": [
    {
     "name": "stdout",
     "output_type": "stream",
     "text": [
      "0.1111111111111111\n"
     ]
    }
   ],
   "source": [
    "min_build = max([building.path_similarity(ss) for ss in wordnet.synsets('leaf', 'n') if building.path_similarity(ss) is not None])\n",
    "print(min_build)"
   ]
  },
  {
   "cell_type": "code",
   "execution_count": 58,
   "metadata": {
    "collapsed": false,
    "deletable": true,
    "editable": true
   },
   "outputs": [
    {
     "name": "stdout",
     "output_type": "stream",
     "text": [
      "0.125\n"
     ]
    }
   ],
   "source": [
    "min_green = max([green_thing.path_similarity(ss) for ss in wordnet.synsets('leaf', 'n') if green_thing.path_similarity(ss) is not None])\n",
    "print(min_green)"
   ]
  },
  {
   "cell_type": "code",
   "execution_count": 47,
   "metadata": {
    "collapsed": false,
    "deletable": true,
    "editable": true
   },
   "outputs": [
    {
     "name": "stdout",
     "output_type": "stream",
     "text": [
      "\"Leaf\" ближе к заводу\n"
     ]
    }
   ],
   "source": [
    "#task5\n",
    "if min_building > min_build:\n",
    "    print('\"Industry\" ближе к заводу')\n",
    "else:\n",
    "    print('\"Leaf\" ближе к заводу')"
   ]
  },
  {
   "cell_type": "code",
   "execution_count": 48,
   "metadata": {
    "collapsed": false,
    "deletable": true,
    "editable": true
   },
   "outputs": [
    {
     "name": "stdout",
     "output_type": "stream",
     "text": [
      "\"Leaf\" ближе к растению\n"
     ]
    }
   ],
   "source": [
    "if min_green > min_green_thing:\n",
    "    print('\"Leaf\" ближе к растению')\n",
    "else:\n",
    "    print('\"Industry\" ближе к растению')"
   ]
  },
  {
   "cell_type": "code",
   "execution_count": 101,
   "metadata": {
    "collapsed": false,
    "deletable": true,
    "editable": true
   },
   "outputs": [
    {
     "name": "stdout",
     "output_type": "stream",
     "text": [
      "0.9985288301111273\n"
     ]
    }
   ],
   "source": [
    "min_building = max([building.lch_similarity(ss) for ss in wordnet.synsets('industry')])\n",
    "print(min_building)"
   ]
  },
  {
   "cell_type": "code",
   "execution_count": 108,
   "metadata": {
    "collapsed": false,
    "deletable": true,
    "editable": true
   },
   "outputs": [
    {
     "name": "stdout",
     "output_type": "stream",
     "text": [
      "1.4403615823901665\n"
     ]
    }
   ],
   "source": [
    "min_building = max([building.lch_similarity(ss) for ss in wordnet.synsets('leaf', 'n')])\n",
    "print(min_building)"
   ]
  },
  {
   "cell_type": "code",
   "execution_count": 102,
   "metadata": {
    "collapsed": false,
    "deletable": true,
    "editable": true,
    "scrolled": true
   },
   "outputs": [
    {
     "name": "stdout",
     "output_type": "stream",
     "text": [
      "1.55814461804655\n"
     ]
    }
   ],
   "source": [
    "min_green = max([green_thing.lch_similarity(ss) for ss in wordnet.synsets('leaf', 'n') if green_thing.path_similarity(ss) is not None])\n",
    "print(min_green)"
   ]
  },
  {
   "cell_type": "code",
   "execution_count": 110,
   "metadata": {
    "collapsed": false,
    "deletable": true,
    "editable": true
   },
   "outputs": [
    {
     "name": "stdout",
     "output_type": "stream",
     "text": [
      "1.072636802264849\n"
     ]
    }
   ],
   "source": [
    "min_green = max([green_thing.lch_similarity(ss) for ss in wordnet.synsets('industry', 'n') if green_thing.path_similarity(ss) is not None])\n",
    "print(min_green)"
   ]
  },
  {
   "cell_type": "code",
   "execution_count": 71,
   "metadata": {
    "collapsed": false,
    "deletable": true,
    "editable": true
   },
   "outputs": [],
   "source": [
    "from nltk.corpus import wordnet_ic\n",
    "brown_ic = wordnet_ic.ic('ic-brown.dat')\n",
    "semcor_ic = wordnet_ic.ic('ic-semcor.dat')"
   ]
  },
  {
   "cell_type": "code",
   "execution_count": 78,
   "metadata": {
    "collapsed": false,
    "deletable": true,
    "editable": true
   },
   "outputs": [
    {
     "name": "stdout",
     "output_type": "stream",
     "text": [
      "-0.0\n"
     ]
    }
   ],
   "source": [
    "min_building = max([building.res_similarity(ss, brown_ic) for ss in wordnet.synsets('industry', 'n')])\n",
    "print(min_building)"
   ]
  },
  {
   "cell_type": "code",
   "execution_count": 79,
   "metadata": {
    "collapsed": false,
    "deletable": true,
    "editable": true
   },
   "outputs": [
    {
     "data": {
      "text/plain": [
       "[Synset('organism.n.01'), Synset('organism.n.02')]"
      ]
     },
     "execution_count": 79,
     "metadata": {},
     "output_type": "execute_result"
    }
   ],
   "source": [
    "rattle = wordnet.synsets(\"rattlesnake's_master\")[0]\n",
    "wordnet.synsets(\"organism\")"
   ]
  },
  {
   "cell_type": "code",
   "execution_count": 105,
   "metadata": {
    "collapsed": false,
    "deletable": true,
    "editable": true
   },
   "outputs": [
    {
     "data": {
      "text/plain": [
       "0.3333333333333333"
      ]
     },
     "execution_count": 105,
     "metadata": {},
     "output_type": "execute_result"
    }
   ],
   "source": [
    "#task 6\n",
    "green_thing.path_similarity(rattle)"
   ]
  },
  {
   "cell_type": "code",
   "execution_count": 90,
   "metadata": {
    "collapsed": false,
    "deletable": true,
    "editable": true
   },
   "outputs": [
    {
     "data": {
      "text/plain": [
       "2.538973871058276"
      ]
     },
     "execution_count": 90,
     "metadata": {},
     "output_type": "execute_result"
    }
   ],
   "source": [
    "green_thing.lch_similarity(rattle)"
   ]
  },
  {
   "cell_type": "code",
   "execution_count": 103,
   "metadata": {
    "collapsed": false,
    "deletable": true,
    "editable": true
   },
   "outputs": [
    {
     "name": "stdout",
     "output_type": "stream",
     "text": [
      "0.3333333333333333\n"
     ]
    }
   ],
   "source": [
    "org1 = wordnet.synsets(\"organism\")[0]\n",
    "org2 = wordnet.synsets(\"organism\")[1]\n",
    "min_org1 = max([org1.path_similarity(ss) for ss in wordnet.synsets('whole', 'n')])\n",
    "print(min_org1)"
   ]
  },
  {
   "cell_type": "code",
   "execution_count": 104,
   "metadata": {
    "collapsed": false,
    "deletable": true,
    "editable": true
   },
   "outputs": [
    {
     "name": "stdout",
     "output_type": "stream",
     "text": [
      "0.125\n"
     ]
    }
   ],
   "source": [
    "min_org2 = max([org2.path_similarity(ss) for ss in wordnet.synsets('whole', 'n')])\n",
    "print(min_org2)"
   ]
  },
  {
   "cell_type": "code",
   "execution_count": 95,
   "metadata": {
    "collapsed": false,
    "deletable": true,
    "editable": true
   },
   "outputs": [
    {
     "name": "stdout",
     "output_type": "stream",
     "text": [
      "2.538973871058276\n"
     ]
    }
   ],
   "source": [
    "min_org = max([org1.lch_similarity(ss) for ss in wordnet.synsets('whole', 'n')])\n",
    "print(min_org)"
   ]
  },
  {
   "cell_type": "code",
   "execution_count": 112,
   "metadata": {
    "collapsed": false,
    "deletable": true,
    "editable": true
   },
   "outputs": [
    {
     "name": "stdout",
     "output_type": "stream",
     "text": [
      "1.55814461804655\n"
     ]
    }
   ],
   "source": [
    "min_org = max([org2.lch_similarity(ss) for ss in wordnet.synsets('whole', 'n')])\n",
    "print(min_org)"
   ]
  },
  {
   "cell_type": "code",
   "execution_count": 115,
   "metadata": {
    "collapsed": false,
    "deletable": true,
    "editable": true
   },
   "outputs": [
    {
     "name": "stdout",
     "output_type": "stream",
     "text": [
      "('whole.n.01', 'all of something including all its component elements or parts')\n",
      "('whole.n.02', 'an assemblage of parts that is regarded as a single entity')\n",
      "('whole.a.01', 'including all components without exception; being one unit or constituting the full amount or extent or duration; complete')\n",
      "('whole.a.02', '(of siblings) having the same parents')\n",
      "('unharmed.s.01', 'not injured')\n",
      "('hale.s.01', 'exhibiting or restored to vigorous good health')\n",
      "('solid.s.15', 'acting together as a single undiversified whole')\n",
      "('wholly.r.01', \"to a complete degree or to the full or entire extent (`whole' is often used informally for `wholly')\")\n"
     ]
    }
   ],
   "source": [
    "for word in wordnet.synsets('whole'):\n",
    "    print((word.name(), word.definition()))"
   ]
  },
  {
   "cell_type": "code",
   "execution_count": 1,
   "metadata": {
    "collapsed": true,
    "deletable": true,
    "editable": true
   },
   "outputs": [],
   "source": [
    "#вывод к последнему заданию. Я использовала два метода:  path_similarity, lch_similarity. \n",
    "#Для последнего задания оба метода дали хорошие результаты. Тем не менее, я попробовала разные методы для предыдущего задания (строки инпута)\n",
    "#101, 108, 110, 102, 78 и получилось, что методы, основанные на ic работают хуже, чем методы, берущие разные метрики дерева ворднета. \n",
    "#Причем lch и path одинаково не оправдали интуитивные ожидания о том, завод ближе к индустрии, чем к листу. \n",
    "#В последнем задании ожидания оправдались.\n",
    "#Мне показалось логичным поставить ограничение на синсеты для whole, потому что синсеты другой части речи не относятся к организму никак."
   ]
  },
  {
   "cell_type": "code",
   "execution_count": null,
   "metadata": {
    "collapsed": true,
    "deletable": true,
    "editable": true
   },
   "outputs": [],
   "source": []
  }
 ],
 "metadata": {
  "kernelspec": {
   "display_name": "Python 3",
   "language": "python",
   "name": "python3"
  },
  "language_info": {
   "codemirror_mode": {
    "name": "ipython",
    "version": 3
   },
   "file_extension": ".py",
   "mimetype": "text/x-python",
   "name": "python",
   "nbconvert_exporter": "python",
   "pygments_lexer": "ipython3",
   "version": "3.4.4"
  }
 },
 "nbformat": 4,
 "nbformat_minor": 2
}
